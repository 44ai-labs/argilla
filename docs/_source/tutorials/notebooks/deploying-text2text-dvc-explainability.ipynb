{
 "cells": [
  {
   "attachments": {},
   "cell_type": "markdown",
   "metadata": {},
   "source": [
    "# 🔐 Backup and version Argilla `Datasets` using `DVC`\n",
    "\n",
    "\n",
    "In this tutorial, we will show you how you can store and version your data using [DVC](https://dvc.org/). Alternatively, you can take a look at our [Elasticsearch docs](../../getting_started/installation/elasticsearch.md) about creating retention snapshots directly from your Elasticsearch cluster. It will walk you through the following steps:\n",
    "\n",
    "- ⚙️ configure DVC\n",
    "- 🧐 determine backup config\n",
    "- 🧪 test back-up config\n",
    "\n",
    "<img src=\"../../_static/tutorials/deploying-text2text-dvc-explainability/deploying-text2text-dvc-explainability.gif\" alt=\"Transformers Log Demo\" style=\"width: 1100px;\">"
   ]
  },
  {
   "attachments": {},
   "cell_type": "markdown",
   "metadata": {},
   "source": [
    "## Introduction\n",
    "\n",
    "It is important to be able to keep track and store data to version data used in training cycles and to avoid losing data alltogether. DVC creates a reference to your data and stores it within an external storage repo. Pushing this reference to get allows us to reproduce certain stages of your repository, while also having a copy of the exact data that was in the repo during that exact time. Think \"git for data\".\n",
    "\n",
    "Take a look at the [DVC docs](https://dvc.org/doc/start/data-management/data-versioning) to get a bit more familiar with the idea behind this versioning principle.\n",
    "\n",
    "\n",
    "\n",
    "Let's get started!"
   ]
  },
  {
   "attachments": {},
   "cell_type": "markdown",
   "metadata": {},
   "source": [
    "## Setup\n",
    "\n",
    "Apart from Argilla, we'll need a to [install DVC](https://dvc.org/doc/install)."
   ]
  },
  {
   "cell_type": "code",
   "execution_count": null,
   "metadata": {},
   "outputs": [],
   "source": [
    "!choco install dvc # mac\n",
    "!snap install --classic dvc # linux\n",
    "!choco install dvc # windows"
   ]
  },
  {
   "attachments": {},
   "cell_type": "markdown",
   "metadata": {},
   "source": [
    "## Configure DVC\n",
    "\n",
    "We assume that DVC will be used in combination with Google Drive as remote storage. This need to be configured by adding something similar as shown below, where `<your-gdrive-folder-id>` is replaced with the Google Drive folder you would like to use for storage. Alternatively, you can go to their [configuration page](https://dvc.org/doc/user-guide/how-to/setup-google-drive-remote)."
   ]
  },
  {
   "cell_type": "code",
   "execution_count": null,
   "metadata": {},
   "outputs": [],
   "source": [
    "!dvc remote add myremote gdrive://<your-gdrive-folder-id>"
   ]
  },
  {
   "attachments": {},
   "cell_type": "markdown",
   "metadata": {},
   "source": [
    "## Configure `.git`\n",
    "\n",
    "We will use GitHub as as way to track our stored files."
   ]
  },
  {
   "attachments": {},
   "cell_type": "markdown",
   "metadata": {},
   "source": [
    "## Define Background Process\n",
    "\n",
    "After setting up DVC, we can now define an [Argilla Listeners](https://docs.argilla.io/en/latest/guides/features/listeners.html) as background progress. This will follow the following steps:\n",
    "-   Export data using a naming convention `/data/YY-mm-dd_dataset`\n",
    "    -   (optional) create `/data_descriptions` to add to GitHub\n",
    "-   Add the data to DVC, creating a `.dvc` reference to the `/data/*`\n",
    "-   Commit the `.dvc` reference to GitHub\n",
    "-   push the `/data/*` to DVC and push the `.dvc` to GitHub\n",
    "\n",
    "This kind of versioning allows us to explore data in GitHub by using `git checkout` first (to switch a branch or checkout a .dvc file version) and then run `dvc checkout` to sync data."
   ]
  },
  {
   "cell_type": "code",
   "execution_count": null,
   "metadata": {},
   "outputs": [],
   "source": [
    "import argilla as rg\n",
    "import datetime\n",
    "import os\n",
    "import glob\n",
    "import time\n",
    "from typing import List\n",
    "\n",
    "import os\n",
    "import argilla as rg\n",
    "rg.init(api_url=os.environ.get(\"ARGILLA_API_URL_DEV\"), api_key=os.environ.get(\"ARGILLA_API_KEY\"))\n",
    "\n",
    "def dataset_backupper(datasets: List[str], duration: int=60*60*24):\n",
    "\n",
    "    while True:\n",
    "        # load datasets and save as .pkl files\n",
    "        for dataset_name in datasets:   \n",
    "            ds = rg.load(datasets)\n",
    "            df = ds.to_pandas()\n",
    "            df.to_pickle(f\"data/{dataset_name}.pkl\")\n",
    "\n",
    "        # get all .pkl files using glob\n",
    "        files = glob.glob('data/*.pkl', recursive=True)\n",
    "        [os.system(f'dvc add {file}') for file in files]\n",
    "        \n",
    "        # add all .pkl.dvc files to github via git add\n",
    "        [os.system(f'git commit {file}.dvc -m \"updated {file}\"') for file in files]\n",
    "        \n",
    "        # push all .pkl.dvc files to github via git push\n",
    "        os.system(\"dvc push\")\n",
    "        os.system(\"git push\")\n",
    "\n",
    "        time.sleep()"
   ]
  },
  {
   "attachments": {},
   "cell_type": "markdown",
   "metadata": {},
   "source": [
    "## Summary\n",
    "\n",
    "In this tutorial, we learned INSERT_SUMMARY.\n",
    "This can INSERT_REASON."
   ]
  },
  {
   "cell_type": "markdown",
   "metadata": {},
   "source": [
    "## Next steps\n",
    "\n",
    "⭐ Argilla [Github repo](https://github.com/argilla-io/argilla) to stay updated.\n",
    "\n",
    "📚 [Argilla documentation](https://docs.argilla.io) for more guides and tutorials.\n",
    "\n",
    "🙋‍♀️ Join the Argilla community! A good place to start is the [discussion forum](https://github.com/argilla-io/argilla/discussions)."
   ]
  }
 ],
 "metadata": {
  "kernelspec": {
   "display_name": "argilla",
   "language": "python",
   "name": "python3"
  },
  "language_info": {
   "codemirror_mode": {
    "name": "ipython",
    "version": 3
   },
   "file_extension": ".py",
   "mimetype": "text/x-python",
   "name": "python",
   "nbconvert_exporter": "python",
   "pygments_lexer": "ipython3",
   "version": "3.9.15 | packaged by conda-forge | (main, Nov 22 2022, 08:50:29) \n[Clang 14.0.6 ]"
  },
  "vscode": {
   "interpreter": {
    "hash": "6c6ac5964d63158aef0c318a650c56c288100fe36867cf6a65be3eefaa97102a"
   }
  }
 },
 "nbformat": 4,
 "nbformat_minor": 4
}
